{
 "cells": [
  {
   "cell_type": "markdown",
   "id": "a7e304e8",
   "metadata": {},
   "source": [
    "# COMP90051 Assignment 2 Data Exploration"
   ]
  },
  {
   "cell_type": "code",
   "execution_count": 3,
   "id": "de005536",
   "metadata": {},
   "outputs": [],
   "source": [
    "#importing libraries\n",
    "import numpy as np\n",
    "import pandas as pd\n",
    "import matplotlib.pyplot as plt\n",
    "from pathlib import Path\n",
    "from PIL import Image"
   ]
  },
  {
   "cell_type": "code",
   "execution_count": 4,
   "id": "ffc9b550",
   "metadata": {},
   "outputs": [
    {
     "name": "stdout",
     "output_type": "stream",
     "text": [
      "/Users/fungs4/Desktop/Skye/University of Melbourne/Year 1 2025/COMP90051 Statistical Machine Learning/COMP90051 Assignments/COMP90051 Assignment 2/Shoe vs Sandal vs Boot Dataset\n"
     ]
    }
   ],
   "source": [
    "#setting working directory\n",
    "import os\n",
    "os.chdir('/Users/fungs4/Desktop/Skye/University of Melbourne/Year 1 2025/COMP90051 Statistical Machine Learning/COMP90051 Assignments/COMP90051 Assignment 2/Shoe vs Sandal vs Boot Dataset')\n",
    "print(os.getcwd())"
   ]
  },
  {
   "cell_type": "code",
   "execution_count": null,
   "id": "375cbf84",
   "metadata": {},
   "outputs": [
    {
     "name": "stdout",
     "output_type": "stream",
     "text": [
      "Boot: 5000 images\n",
      "Sandal: 5000 images\n",
      "Shoe: 5000 images\n",
      "Total: 15000 images\n"
     ]
    }
   ],
   "source": [
    "#loading image paths\n",
    "data_dir = Path('.')\n",
    "\n",
    "boot_images = list((data_dir / 'Boot').glob('*.jpg')) + list((data_dir / 'Boot').glob('*.png'))\n",
    "sandal_images = list((data_dir / 'Sandal').glob('*.jpg')) + list((data_dir / 'Sandal').glob('*.png'))\n",
    "shoe_images = list((data_dir / 'Shoe').glob('*.jpg')) + list((data_dir / 'Shoe').glob('*.png'))\n",
    "\n",
    "print(f\"Boot: {len(boot_images)} images\")\n",
    "print(f\"Sandal: {len(sandal_images)} images\")\n",
    "print(f\"Shoe: {len(shoe_images)} images\")\n",
    "print(f\"Total: {len(boot_images) + len(sandal_images) + len(shoe_images)} images\")"
   ]
  },
  {
   "cell_type": "code",
   "execution_count": null,
   "id": "ffebda59",
   "metadata": {},
   "outputs": [],
   "source": [
    "#combining image paths, creating labels\n",
    "image_paths = boot_images + sandal_images + shoe_images\n",
    "all_labels = ['Boot'] * len(boot_images) + ['Sandal'] * len(sandal_images) + ['Shoe'] * len(shoe_images)"
   ]
  }
 ],
 "metadata": {
  "kernelspec": {
   "display_name": "myenv",
   "language": "python",
   "name": "python3"
  },
  "language_info": {
   "codemirror_mode": {
    "name": "ipython",
    "version": 3
   },
   "file_extension": ".py",
   "mimetype": "text/x-python",
   "name": "python",
   "nbconvert_exporter": "python",
   "pygments_lexer": "ipython3",
   "version": "3.10.18"
  }
 },
 "nbformat": 4,
 "nbformat_minor": 5
}
