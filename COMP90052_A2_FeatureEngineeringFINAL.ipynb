{
 "cells": [
  {
   "cell_type": "markdown",
   "id": "33c02b48",
   "metadata": {},
   "source": [
    "# COMP90051 Assignment 2 - Feature Engineering Pipeline"
   ]
  },
  {
   "cell_type": "code",
   "execution_count": 1,
   "id": "035eb92c",
   "metadata": {},
   "outputs": [],
   "source": [
    "#importing libraries\n",
    "import os\n",
    "import numpy as np\n",
    "import pandas as pd\n",
    "import matplotlib.pyplot as plt\n",
    "from pathlib import Path\n",
    "from PIL import Image\n",
    "import random\n",
    "from sklearn.model_selection import train_test_split\n",
    "import cv2"
   ]
  },
  {
   "cell_type": "code",
   "execution_count": 2,
   "id": "988b6147",
   "metadata": {},
   "outputs": [],
   "source": [
    "np.random.seed(66)"
   ]
  },
  {
   "cell_type": "markdown",
   "id": "484af189",
   "metadata": {},
   "source": [
    "## Image Preparation"
   ]
  },
  {
   "cell_type": "markdown",
   "id": "769e04d2",
   "metadata": {},
   "source": [
    "Loading images"
   ]
  },
  {
   "cell_type": "code",
   "execution_count": 3,
   "id": "d290d7c3",
   "metadata": {},
   "outputs": [
    {
     "name": "stdout",
     "output_type": "stream",
     "text": [
      "/Users/fungs4/Desktop/Skye/University of Melbourne/Year 1 2025/COMP90051 Statistical Machine Learning/COMP90051 Assignments/COMP90051 Assignment 2/Shoe vs Sandal vs Boot Dataset\n"
     ]
    }
   ],
   "source": [
    "#setting working directory\n",
    "os.chdir('/Users/fungs4/Desktop/Skye/University of Melbourne/Year 1 2025/COMP90051 Statistical Machine Learning/COMP90051 Assignments/COMP90051 Assignment 2/Shoe vs Sandal vs Boot Dataset') #CHANGE THIS TO YOUR OWN DIRECTORY TO LOAD THE IMAGES\n",
    "print(os.getcwd())"
   ]
  },
  {
   "cell_type": "code",
   "execution_count": 4,
   "id": "b46e2929",
   "metadata": {},
   "outputs": [],
   "source": [
    "#loading image paths\n",
    "data_dir = Path('.')\n",
    "\n",
    "boot_images = list((data_dir / 'Boot').glob('*.jpg')) + list((data_dir / 'Boot').glob('*.png'))\n",
    "sandal_images = list((data_dir / 'Sandal').glob('*.jpg')) + list((data_dir / 'Sandal').glob('*.png'))\n",
    "shoe_images = list((data_dir / 'Shoe').glob('*.jpg')) + list((data_dir / 'Shoe').glob('*.png'))"
   ]
  },
  {
   "cell_type": "code",
   "execution_count": 5,
   "id": "5ab475ab",
   "metadata": {},
   "outputs": [],
   "source": [
    "#combining image paths, creating labels\n",
    "image_paths = boot_images + sandal_images + shoe_images\n",
    "all_labels = ['Boot'] * len(boot_images) + ['Sandal'] * len(sandal_images) + ['Shoe'] * len(shoe_images)"
   ]
  },
  {
   "cell_type": "code",
   "execution_count": 6,
   "id": "72ec7978",
   "metadata": {},
   "outputs": [
    {
     "name": "stdout",
     "output_type": "stream",
     "text": [
      "Found 21 background images\n",
      "Loaded: kwon-junho-lwmPOZ5nUfk-unsplash.jpg - Shape: (224, 224, 3)\n",
      "Loaded: alex-tyson-RR9Muj8qpns-unsplash.jpg - Shape: (224, 224, 3)\n",
      "Loaded: mitch-harris-cPZ21gvclO8-unsplash.jpg - Shape: (224, 224, 3)\n",
      "Loaded: martin-van-maaren-l3WPo-bchxk-unsplash.jpg - Shape: (224, 224, 3)\n",
      "Loaded: valenzo-susanto-0mBaqgMI80A-unsplash.jpg - Shape: (224, 224, 3)\n",
      "Loaded: lynda-sanchez-UZZcLyvqXJs-unsplash.jpg - Shape: (224, 224, 3)\n",
      "Loaded: daryl-han-omleEc6GqCQ-unsplash.jpg - Shape: (224, 224, 3)\n",
      "Loaded: emmanuel-ben-paul-R_k6kaHhHnY-unsplash.jpg - Shape: (224, 224, 3)\n",
      "Loaded: carl-raw-n3GDA7mZVyU-unsplash.jpg - Shape: (224, 224, 3)\n",
      "Loaded: c-cai-L9FaRRzZGX8-unsplash.jpg - Shape: (224, 224, 3)\n",
      "Loaded: angele-kamp--OQbUQce54k-unsplash.jpg - Shape: (224, 224, 3)\n",
      "Loaded: ilker-ozmen-1gTlnR6EHzw-unsplash.jpg - Shape: (224, 224, 3)\n",
      "Loaded: keith-misner-h0Vxgz5tyXA-unsplash.jpg - Shape: (224, 224, 3)\n",
      "Loaded: alex-lvrs-Md6_qA-BMis-unsplash.jpg - Shape: (224, 224, 3)\n",
      "Loaded: hal-gatewood-JL-Wz38iawg-unsplash.jpg - Shape: (224, 224, 3)\n",
      "Loaded: enzo-kin-W1AJ_c1s4KM-unsplash.jpg - Shape: (224, 224, 3)\n",
      "Loaded: engin-akyurt-LMPr8P6fNI0-unsplash.jpg - Shape: (224, 224, 3)\n",
      "Loaded: lisa-anna-z6YCmjEAtMw-unsplash.jpg - Shape: (224, 224, 3)\n",
      "Loaded: lisa-anna-aSbbjfkSQ7M-unsplash.jpg - Shape: (224, 224, 3)\n",
      "Loaded: bailey-alexander-hILnubIDyxk-unsplash.jpg - Shape: (224, 224, 3)\n",
      "Loaded: francisco-galarza-XyhgTIiB-Mk-unsplash.jpg - Shape: (224, 224, 3)\n",
      "\n",
      "Successfully loaded 21 backgrounds\n",
      "All backgrounds standardized to shape: (224, 224, 3)\n"
     ]
    }
   ],
   "source": [
    "#loading background images from directory\n",
    "os.chdir('/Users/fungs4/Desktop/Skye/University of Melbourne/Year 1 2025/COMP90051 Statistical Machine Learning/COMP90051 Assignments/COMP90051 Assignment 2/COMP90051_A2') #set the working directory to the folder corresponding to the github repo\n",
    "def load_background_pool_from_directory(background_dir='backgrounds', target_size=(224, 224)):\n",
    "    bg_path = Path(background_dir)\n",
    "    \n",
    "    if not bg_path.exists():\n",
    "        print(f\"Directory {background_dir} not found!\")\n",
    "        return []\n",
    "    \n",
    "    # Find all images recursively\n",
    "    image_extensions = ['*.jpg', '*.jpeg', '*.png', '*.JPG', '*.JPEG', '*.PNG']\n",
    "    image_paths = []\n",
    "    for ext in image_extensions:\n",
    "        image_paths.extend(bg_path.glob(ext))  # Use glob instead of rglob if not in subdirectories\n",
    "    \n",
    "    print(f\"Found {len(image_paths)} background images\")\n",
    "    \n",
    "    backgrounds = []\n",
    "    for path in image_paths:\n",
    "        try:\n",
    "            img = Image.open(path).convert('RGB')\n",
    "            #resize to standard size\n",
    "            img = img.resize(target_size)\n",
    "            img_array = np.array(img)\n",
    "            backgrounds.append(img_array)\n",
    "            print(f\"Loaded: {path.name} - Shape: {img_array.shape}\")\n",
    "        except Exception as e:\n",
    "            print(f\"Error loading {path}: {e}\")\n",
    "    \n",
    "    print(f\"\\nSuccessfully loaded {len(backgrounds)} backgrounds\")\n",
    "    print(f\"All backgrounds standardized to shape: {backgrounds[0].shape if backgrounds else 'N/A'}\")\n",
    "    return backgrounds\n",
    "\n",
    "background_pool = load_background_pool_from_directory('backgrounds')\n",
    "\n",
    "#change directory back to the one that contains the shoe images\n",
    "os.chdir('/Users/fungs4/Desktop/Skye/University of Melbourne/Year 1 2025/COMP90051 Statistical Machine Learning/COMP90051 Assignments/COMP90051 Assignment 2/Shoe vs Sandal vs Boot Dataset')"
   ]
  },
  {
   "cell_type": "markdown",
   "id": "8b38e1b3",
   "metadata": {},
   "source": [
    "Creating train-test split"
   ]
  },
  {
   "cell_type": "code",
   "execution_count": 7,
   "id": "7da86d20",
   "metadata": {},
   "outputs": [
    {
     "name": "stdout",
     "output_type": "stream",
     "text": [
      "Training set: 12000 images\n",
      "Test set: 3000 images\n",
      "\n",
      "Training set distribution: Counter({'Boot': 4000, 'Sandal': 4000, 'Shoe': 4000})\n",
      "Test set distribution: Counter({'Shoe': 1000, 'Sandal': 1000, 'Boot': 1000})\n"
     ]
    }
   ],
   "source": [
    "train_paths, test_paths, train_labels, test_labels = train_test_split(\n",
    "    image_paths, \n",
    "    all_labels, \n",
    "    test_size = 0.2, \n",
    "    stratify = all_labels,\n",
    "    random_state = 66\n",
    ")\n",
    "\n",
    "print(f\"Training set: {len(train_paths)} images\")\n",
    "print(f\"Test set: {len(test_paths)} images\")\n",
    "\n",
    "#checking class distribution (making sure train/test sets have the same proportion of each class)\n",
    "from collections import Counter\n",
    "print(\"\\nTraining set distribution:\", Counter(train_labels))\n",
    "print(\"Test set distribution:\", Counter(test_labels))"
   ]
  },
  {
   "cell_type": "markdown",
   "id": "953b992b",
   "metadata": {},
   "source": [
    "## Adding Distortions"
   ]
  },
  {
   "cell_type": "markdown",
   "id": "1b0a4794",
   "metadata": {},
   "source": [
    "### Distortion 1 - Occlusions"
   ]
  },
  {
   "cell_type": "code",
   "execution_count": 8,
   "id": "da7c4ad0",
   "metadata": {},
   "outputs": [],
   "source": [
    "#this function creates a shoe mask, that tells us where the shoe is. we can do this, because all of our images are the shoe on a white background\n",
    "def create_shoe_mask(image, threshold=240):\n",
    "    \"\"\"Identify shoe pixels (non-white pixels)\"\"\"\n",
    "    return np.any(image < threshold, axis=-1)"
   ]
  },
  {
   "cell_type": "code",
   "execution_count": 9,
   "id": "1cdca660",
   "metadata": {},
   "outputs": [],
   "source": [
    "#this function places a random rectangular/square occlusion on the image. it uses the shoe mask to ensure that at least part of the occlusions that is inserted, overlaps with the shoe itself\n",
    "#INPUTS:\n",
    "#occlusion_size - (height, width) of the rectangle\n",
    "#shoe_mask - binary mask, where True = shoe pixel\n",
    "def place_random_occlusion_on_shoe(image_array, occlusion_size, shoe_mask):\n",
    "    #find shoe pixel coordinates\n",
    "    shoe_coords = np.argwhere(shoe_mask)  # Returns [[y1,x1], [y2,x2], ...]\n",
    "    \n",
    "    #randomly pick a shoe pixel as anchor point\n",
    "    anchor_idx = np.random.randint(len(shoe_coords))\n",
    "    anchor_y, anchor_x = shoe_coords[anchor_idx]\n",
    "\n",
    "    \n",
    "    #set anchor to be center of rectangle\n",
    "    y1 = anchor_y - occlusion_size[0] // 2\n",
    "    x1 = anchor_x - occlusion_size[1] // 2\n",
    "    \n",
    "    y2 = y1 + occlusion_size[0]\n",
    "    x2 = x1 + occlusion_size[1]\n",
    "    \n",
    "    #clip to image boundaries\n",
    "    h, w = image_array.shape[:2]\n",
    "    y1, y2 = max(0, y1), min(h, y2)\n",
    "    x1, x2 = max(0, x1), min(w, x2)\n",
    "    \n",
    "    #apply occlusion (black rectangle)\n",
    "    occluded_image = image_array.copy()\n",
    "    occluded_image[y1:y2, x1:x2] = 0  # Black occlusion\n",
    "    \n",
    "    return occluded_image"
   ]
  },
  {
   "cell_type": "code",
   "execution_count": 10,
   "id": "4bf2621f",
   "metadata": {},
   "outputs": [],
   "source": [
    "#apply occlusion to an image given its file path\n",
    "#INPUTS \n",
    "#image_array: numpy array of the image\n",
    "#shoe_mask: binary mask, where True = shoe pixel\n",
    "def apply_occlusion(image_array, shoe_mask):    \n",
    "    #randomly select coverage percentage\n",
    "    coverage_percentage = np.random.uniform(0.15, 0.45)\n",
    "    \n",
    "    #count total shoe pixels\n",
    "    total_shoe_pixels = np.sum(shoe_mask)\n",
    "    target_occluded_pixels = int(total_shoe_pixels * coverage_percentage)\n",
    "    \n",
    "    #calculate rectangle size needed\n",
    "    rect_size = int(np.sqrt(target_occluded_pixels))\n",
    "    \n",
    "    #apply occlusion\n",
    "    occluded_array = place_random_occlusion_on_shoe(image_array, (rect_size, rect_size), shoe_mask)\n",
    "    \n",
    "    return occluded_array.astype(np.uint8)"
   ]
  },
  {
   "cell_type": "markdown",
   "id": "d27c798f",
   "metadata": {},
   "source": [
    "### Distortion 2 - Lighting"
   ]
  },
  {
   "cell_type": "code",
   "execution_count": 11,
   "id": "04cfe021",
   "metadata": {},
   "outputs": [],
   "source": [
    "#function to apply combined lighting distortions (contrast, exposure and colour temperature)\n",
    "#INPUTS: \n",
    "#   - image_array: numpy array of the image\n",
    "#    - contrast_factor: float\n",
    "#        < 1.0: low contrast (flat, washed out)\n",
    "#        = 1.0: original\n",
    "#        > 1.0: high contrast (harsh lighting)\n",
    "#    - exposure_compensation: float in range [-3, +3]\n",
    "#        Negative: underexposed (too dark)\n",
    "#        0: original exposure\n",
    "#        Positive: overexposed (too bright)\n",
    "#    - temperature_shift: int (e.g., -50 to +50)\n",
    "#        Negative: cooler (blue tint, outdoor/overcast)\n",
    "#        0: neutral\n",
    "#        Positive: warmer (orange tint, indoor/sunset)\n",
    "#    RETURNS:\n",
    "#    - numpy array with lighting distortions applied\n",
    "\n",
    "def apply_lighting_distortion(image_array):\n",
    "    # Randomly select parameters\n",
    "    contrast_factor = np.random.uniform(0.5, 1.5)\n",
    "    exposure_compensation = np.random.uniform(-1, 1)\n",
    "    temperature_shift = np.random.uniform(-30, 30)\n",
    "    \n",
    "    img_array = image_array.astype(float)\n",
    "    \n",
    "    # 1. Apply contrast adjustment (numpy implementation)\n",
    "    mean = np.mean(img_array)\n",
    "    img_array = (img_array - mean) * contrast_factor + mean\n",
    "    img_array = np.clip(img_array, 0, 255)\n",
    "    \n",
    "    # 2. Apply exposure compensation\n",
    "    img_array = img_array / 255.0\n",
    "    exposure_factor = 2 ** exposure_compensation\n",
    "    img_array = img_array * exposure_factor\n",
    "    img_array = np.clip(img_array, 0, 1)\n",
    "    img_array = img_array * 255\n",
    "    \n",
    "    # 3. Apply color temperature shift\n",
    "    if temperature_shift > 0:  # Warmer\n",
    "        img_array[:, :, 0] = np.clip(img_array[:, :, 0] + temperature_shift, 0, 255)\n",
    "        img_array[:, :, 1] = np.clip(img_array[:, :, 1] + temperature_shift * 0.5, 0, 255)\n",
    "    else:  # Cooler\n",
    "        img_array[:, :, 2] = np.clip(img_array[:, :, 2] - temperature_shift, 0, 255)\n",
    "    \n",
    "    return img_array.astype(np.uint8)"
   ]
  },
  {
   "cell_type": "markdown",
   "id": "897f2a90",
   "metadata": {},
   "source": [
    "### Distortion 3 - Background Clutter"
   ]
  },
  {
   "cell_type": "code",
   "execution_count": 12,
   "id": "2fe14e51",
   "metadata": {},
   "outputs": [],
   "source": [
    "#this function adds background clutter to our image, by adding a background (image from the background pool)\n",
    "#INPUTS:\n",
    "#image - numpy array of shoe image\n",
    "#background_pool - list of background images (all as numpy arrays)\n",
    "#RETURNS:\n",
    "#numpy array with shoe on new background\n",
    "def add_background_clutter(image, background_pool):\n",
    "    #get shoe mask\n",
    "    shoe_mask = create_shoe_mask(image)\n",
    "    \n",
    "    #get background\n",
    "    background = random.choice(background_pool)  # Randomly choose a background\n",
    "    # Resize background to match shoe image size\n",
    "    background = np.array(Image.fromarray(background).resize(\n",
    "        (image.shape[1], image.shape[0])  # (width, height)\n",
    "    ))\n",
    "    background = background.copy()\n",
    "    \n",
    "    #add shoe back on top\n",
    "    result = background.copy()\n",
    "    result[shoe_mask] = image[shoe_mask]\n",
    "    \n",
    "    return result"
   ]
  },
  {
   "cell_type": "markdown",
   "id": "2bd23c87",
   "metadata": {},
   "source": [
    "### Distortion 4 - Rotation"
   ]
  },
  {
   "cell_type": "code",
   "execution_count": 13,
   "id": "a24d7d20",
   "metadata": {},
   "outputs": [],
   "source": [
    "def rotate(img):\n",
    "    # rotate the image randomly between -30 to +30 degrees\n",
    "    h, w = img.shape[:2]\n",
    "    ang = random.uniform(-30, 30)\n",
    "    M = cv2.getRotationMatrix2D((w//2, h//2), ang, 1)\n",
    "    return cv2.warpAffine(img, M, (w, h), borderMode=cv2.BORDER_REFLECT)"
   ]
  },
  {
   "cell_type": "markdown",
   "id": "efb91b93",
   "metadata": {},
   "source": [
    "### Distortion 5 - Blur"
   ]
  },
  {
   "cell_type": "code",
   "execution_count": 14,
   "id": "b7f47645",
   "metadata": {},
   "outputs": [],
   "source": [
    "def apply_blur(img):\n",
    "    # apply blur (either Gaussian or motion) with random intensity\n",
    "    choice = random.choice([\"gaussian\", \"motion\"])\n",
    "    \n",
    "    if choice == \"gaussian\":\n",
    "        # Random kernel size between 3 and 9 (must be odd)\n",
    "        kernel_size = random.choice([3, 5, 7, 9])\n",
    "        return cv2.GaussianBlur(img, (kernel_size, kernel_size), 0)\n",
    "    else:\n",
    "        # Random motion blur length between 5 and 15\n",
    "        k = random.choice([5, 7, 9, 11, 13, 15])\n",
    "        kernel = np.zeros((k, k))\n",
    "        kernel[k//2, :] = 1\n",
    "        kernel /= k\n",
    "        return cv2.filter2D(img, -1, kernel)"
   ]
  },
  {
   "cell_type": "markdown",
   "id": "41e711cc",
   "metadata": {},
   "source": [
    "### Overall Distortion Function"
   ]
  },
  {
   "cell_type": "markdown",
   "id": "6e608a39",
   "metadata": {},
   "source": [
    "This function combines the 3 distortion functions from above, to apply distortions to an image by first adding a noisy background, followed by applying lighting distortions, before finally adding occlusions"
   ]
  },
  {
   "cell_type": "code",
   "execution_count": 15,
   "id": "37a03f39",
   "metadata": {},
   "outputs": [],
   "source": [
    "def augment_image(image_path, background_pool, selected_distortions):\n",
    "    image = Image.open(image_path).convert('RGB')\n",
    "    image = image.resize((224, 224))\n",
    "    image = np.array(image)\n",
    "    \n",
    "    # Rotation first if selected\n",
    "    if 'rotation' in selected_distortions:\n",
    "        image = rotate(image)\n",
    "    \n",
    "    # Create mask BEFORE background is added (whether rotated or not)\n",
    "    shoe_mask = create_shoe_mask(image)\n",
    "    \n",
    "    # Now apply remaining distortions in order\n",
    "    if 'background_clutter' in selected_distortions:\n",
    "        image = add_background_clutter(image, background_pool)\n",
    "    \n",
    "    if 'lighting' in selected_distortions:\n",
    "        image = apply_lighting_distortion(image)\n",
    "    \n",
    "    if 'occlusion' in selected_distortions:\n",
    "        image = apply_occlusion(image, shoe_mask)\n",
    "    \n",
    "    if 'blur' in selected_distortions:\n",
    "        image = apply_blur(image)\n",
    "    \n",
    "    return image"
   ]
  },
  {
   "cell_type": "code",
   "execution_count": 16,
   "id": "7886b61e",
   "metadata": {},
   "outputs": [
    {
     "data": {
      "image/png": "[encoded data removed]",
      "text/plain": [
       "<Figure size 640x480 with 1 Axes>"
      ]
     },
     "metadata": {},
     "output_type": "display_data"
    }
   ],
   "source": [
    "#example distorted image, applied to the first boot image\n",
    "selected_distortions = ['rotation', 'background_clutter', 'lighting', 'occlusion', 'blur']\n",
    "augmented = augment_image(boot_images[0], background_pool, selected_distortions)\n",
    "plt.imshow(augmented)\n",
    "plt.show()"
   ]
  },
  {
   "cell_type": "markdown",
   "id": "68c61288",
   "metadata": {},
   "source": [
    "## Feature Engineering Pipeline"
   ]
  },
  {
   "cell_type": "markdown",
   "id": "0e72ba65",
   "metadata": {},
   "source": [
    "Now that we have a working distortion function, we can construct our overall pipeline"
   ]
  },
  {
   "cell_type": "code",
   "execution_count": 17,
   "id": "8b3596d3",
   "metadata": {},
   "outputs": [],
   "source": [
    "#apply augmentations to a set of images\n",
    "#INPUTS:\n",
    "# image_paths - list of file paths to images\n",
    "# labels - list of corresponding labels (shoe, boot, sandal)\n",
    "# background_pool - list of background images\n",
    "#RETURNS:\n",
    "# X - numpy array of augmented images\n",
    "# y - numpy array of labels\n",
    "def augment_image_list(image_paths, labels, background_pool):\n",
    "    augmented_images = []\n",
    "    \n",
    "    #available distortions\n",
    "    all_distortions = ['rotation', 'background_clutter', 'lighting', 'occlusion', 'blur']\n",
    "    \n",
    "    print(f\"Augmenting {len(image_paths)} images...\")\n",
    "    for i, img_path in enumerate(image_paths):\n",
    "        if (i + 1) % 1000 == 0:  #progress indicator\n",
    "            print(f\"  Processed {i + 1}/{len(image_paths)}\")\n",
    "        \n",
    "        #randomly select 3 out of 5 distortions\n",
    "        selected_distortions = random.sample(all_distortions, 2)\n",
    "        \n",
    "        augmented_img = augment_image(img_path, background_pool, selected_distortions)\n",
    "        augmented_images.append(augmented_img)\n",
    "    \n",
    "    X = np.array(augmented_images)\n",
    "    y = np.array(labels)\n",
    "    \n",
    "    return X, y"
   ]
  },
  {
   "cell_type": "code",
   "execution_count": 18,
   "id": "b8abf687",
   "metadata": {},
   "outputs": [
    {
     "name": "stdout",
     "output_type": "stream",
     "text": [
      "Creating Training Set A (original images)...\n",
      "Creating Training Set B (augmented images)...\n",
      "Augmenting 12000 images...\n",
      "  Processed 1000/12000\n",
      "  Processed 2000/12000\n",
      "  Processed 3000/12000\n",
      "  Processed 4000/12000\n",
      "  Processed 5000/12000\n",
      "  Processed 6000/12000\n",
      "  Processed 7000/12000\n",
      "  Processed 8000/12000\n",
      "  Processed 9000/12000\n",
      "  Processed 10000/12000\n",
      "  Processed 11000/12000\n",
      "  Processed 12000/12000\n",
      "Creating Test Set (augmented images)...\n",
      "Augmenting 3000 images...\n",
      "  Processed 1000/3000\n",
      "  Processed 2000/3000\n",
      "  Processed 3000/3000\n",
      "\n",
      "Dataset shapes:\n",
      "X_train_A: (12000, 224, 224, 3)\n",
      "X_train_B: (12000, 224, 224, 3)\n",
      "X_test: (3000, 224, 224, 3)\n"
     ]
    }
   ],
   "source": [
    "# Training Set A: Original images (resized to consistent dimensions)\n",
    "print(\"Creating Training Set A (original images)...\")\n",
    "X_train_A = []\n",
    "for path in train_paths:\n",
    "    img = Image.open(path).convert('RGB')\n",
    "    img = img.resize((224, 224))  \n",
    "    X_train_A.append(np.array(img))\n",
    "X_train_A = np.array(X_train_A)\n",
    "y_train_A = np.array(train_labels)\n",
    "\n",
    "# Training Set B: Augmented images\n",
    "print(\"Creating Training Set B (augmented images)...\")\n",
    "X_train_B, y_train_B = augment_image_list(train_paths, train_labels, background_pool)\n",
    "\n",
    "# Test Set: Augmented images\n",
    "print(\"Creating Test Set (augmented images)...\")\n",
    "X_test, y_test = augment_image_list(test_paths, test_labels, background_pool)\n",
    "\n",
    "print(\"\\nDataset shapes:\")\n",
    "print(f\"X_train_A: {X_train_A.shape}\")\n",
    "print(f\"X_train_B: {X_train_B.shape}\")\n",
    "print(f\"X_test: {X_test.shape}\")"
   ]
  },
  {
   "cell_type": "markdown",
   "id": "3d193968",
   "metadata": {},
   "source": [
    "Code below exports the augmented image sets above"
   ]
  },
  {
   "cell_type": "code",
   "execution_count": 19,
   "id": "eafca3ee",
   "metadata": {},
   "outputs": [
    {
     "name": "stdout",
     "output_type": "stream",
     "text": [
      "/Users/fungs4/Desktop/Skye/University of Melbourne/Year 1 2025/COMP90051 Statistical Machine Learning/COMP90051 Assignments/COMP90051 Assignment 2\n"
     ]
    }
   ],
   "source": [
    "os.chdir('/Users/fungs4/Desktop/Skye/University of Melbourne/Year 1 2025/COMP90051 Statistical Machine Learning/COMP90051 Assignments/COMP90051 Assignment 2') #CHANGE TO YOUR OWN FILEPATH, FOR WHERE YOU WANT TO SAVE THE DATA\n",
    "print(os.getcwd())"
   ]
  },
  {
   "cell_type": "code",
   "execution_count": 20,
   "id": "87d21f65",
   "metadata": {},
   "outputs": [
    {
     "name": "stdout",
     "output_type": "stream",
     "text": [
      "Saving datasets...\n"
     ]
    }
   ],
   "source": [
    "output_dir = './augmented_data'\n",
    "os.makedirs(output_dir, exist_ok=True)\n",
    "\n",
    "# Save datasets as .npz files (compressed)\n",
    "print(\"Saving datasets...\")\n",
    "np.savez_compressed(os.path.join(output_dir, 'train_A.npz'), \n",
    "                    X=X_train_A, y=y_train_A)\n",
    "np.savez_compressed(os.path.join(output_dir, 'train_B.npz'), \n",
    "                    X=X_train_B, y=y_train_B)\n",
    "np.savez_compressed(os.path.join(output_dir, 'test.npz'), \n",
    "                    X=X_test, y=y_test)"
   ]
  }
 ],
 "metadata": {
  "kernelspec": {
   "display_name": "myenv",
   "language": "python",
   "name": "python3"
  },
  "language_info": {
   "codemirror_mode": {
    "name": "ipython",
    "version": 3
   },
   "file_extension": ".py",
   "mimetype": "text/x-python",
   "name": "python",
   "nbconvert_exporter": "python",
   "pygments_lexer": "ipython3",
   "version": "3.10.18"
  }
 },
 "nbformat": 4,
 "nbformat_minor": 5
}
